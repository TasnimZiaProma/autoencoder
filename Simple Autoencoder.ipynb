{
 "cells": [
  {
   "cell_type": "code",
   "execution_count": 1,
   "metadata": {},
   "outputs": [],
   "source": [
    "import matplotlib.pyplot as plt\n",
    "import numpy as np\n",
    "\n",
    "import torch\n",
    "import torchvision\n",
    "import torchvision.transforms as transforms\n",
    "\n",
    "import torch.nn as nn\n",
    "import torch.nn.functional as F\n",
    "import torch.optim as optim"
   ]
  },
  {
   "cell_type": "code",
   "execution_count": 2,
   "metadata": {},
   "outputs": [],
   "source": [
    "transform = transforms.Compose(\n",
    "    [transforms.ToTensor(),\n",
    "    transforms.Normalize((0.5,), (0.5,))])"
   ]
  },
  {
   "cell_type": "code",
   "execution_count": 3,
   "metadata": {},
   "outputs": [
    {
     "name": "stdout",
     "output_type": "stream",
     "text": [
      " Number of training data  60000\n"
     ]
    }
   ],
   "source": [
    "train_set = torchvision.datasets.MNIST('./data',\n",
    "    download=False,\n",
    "    train=True,\n",
    "    transform=transform)\n",
    "print(' Number of training data ', len(train_set))"
   ]
  },
  {
   "cell_type": "code",
   "execution_count": 4,
   "metadata": {},
   "outputs": [
    {
     "name": "stdout",
     "output_type": "stream",
     "text": [
      " Number of testing data  10000\n"
     ]
    }
   ],
   "source": [
    "test_set = torchvision.datasets.MNIST('./data',\n",
    "    download=False,\n",
    "    train=False,\n",
    "    transform=transform)\n",
    "print(' Number of testing data ',len(test_set))"
   ]
  },
  {
   "cell_type": "code",
   "execution_count": 5,
   "metadata": {},
   "outputs": [],
   "source": [
    "BATCH_SIZE = 512"
   ]
  },
  {
   "cell_type": "code",
   "execution_count": 7,
   "metadata": {},
   "outputs": [],
   "source": [
    "train_loader = torch.utils.data.DataLoader(train_set, batch_size=BATCH_SIZE,\n",
    "                                          shuffle=True, num_workers=2)"
   ]
  },
  {
   "cell_type": "code",
   "execution_count": 8,
   "metadata": {},
   "outputs": [],
   "source": [
    "test_loader = torch.utils.data.DataLoader(test_set, batch_size=BATCH_SIZE,\n",
    "                                         shuffle=False, num_workers=2)"
   ]
  },
  {
   "cell_type": "code",
   "execution_count": 11,
   "metadata": {},
   "outputs": [
    {
     "name": "stdout",
     "output_type": "stream",
     "text": [
      "['0 - zero', '1 - one', '2 - two', '3 - three', '4 - four', '5 - five', '6 - six', '7 - seven', '8 - eight', '9 - nine']\n"
     ]
    }
   ],
   "source": [
    "CLASSES = train_loader.dataset.classes\n",
    "print(CLASSES)"
   ]
  },
  {
   "cell_type": "code",
   "execution_count": 12,
   "metadata": {},
   "outputs": [],
   "source": [
    "class AE(nn.Module):\n",
    "    def __init__(self, **kwargs):\n",
    "        super().__init__()\n",
    "        self.encoder_hidden_layer = nn.Linear(\n",
    "            in_features=kwargs[\"input_shape\"], out_features=128\n",
    "        )\n",
    "        self.encoder_output_layer = nn.Linear(\n",
    "            in_features=128, out_features=128\n",
    "        )\n",
    "        self.decoder_hidden_layer = nn.Linear(\n",
    "            in_features=128, out_features=128\n",
    "        )\n",
    "        self.decoder_output_layer = nn.Linear(\n",
    "            in_features=128, out_features=kwargs[\"input_shape\"]\n",
    "        )\n",
    "\n",
    "    def forward(self, features):\n",
    "        activation = self.encoder_hidden_layer(features)\n",
    "        activation = torch.relu(activation)\n",
    "        code = self.encoder_output_layer(activation)\n",
    "        code = torch.relu(code)\n",
    "        activation = self.decoder_hidden_layer(code)\n",
    "        activation = torch.relu(activation)\n",
    "        activation = self.decoder_output_layer(activation)\n",
    "        reconstructed = torch.relu(activation)\n",
    "        return reconstructed"
   ]
  },
  {
   "cell_type": "code",
   "execution_count": 13,
   "metadata": {},
   "outputs": [],
   "source": [
    "#  use gpu if available\n",
    "device = torch.device(\"cuda\" if torch.cuda.is_available() else \"cpu\")\n",
    "\n",
    "# create a model from `AE` autoencoder class\n",
    "# load it to the specified device, either gpu or cpu\n",
    "model = AE(input_shape=784).to(device)\n",
    "\n",
    "# create an optimizer object\n",
    "# Adam optimizer with learning rate 0.001\n",
    "optimizer = optim.Adam(model.parameters(), lr=1e-3)\n",
    "\n",
    "# mean-squared error loss\n",
    "criterion = nn.MSELoss()"
   ]
  },
  {
   "cell_type": "code",
   "execution_count": 15,
   "metadata": {},
   "outputs": [],
   "source": [
    "epochs = 50"
   ]
  },
  {
   "cell_type": "code",
   "execution_count": 16,
   "metadata": {},
   "outputs": [
    {
     "name": "stdout",
     "output_type": "stream",
     "text": [
      "epoch : 1/50, loss = 0.921596\n",
      "epoch : 2/50, loss = 0.906415\n",
      "epoch : 3/50, loss = 0.899758\n",
      "epoch : 4/50, loss = 0.896176\n",
      "epoch : 5/50, loss = 0.893729\n",
      "epoch : 6/50, loss = 0.892534\n",
      "epoch : 7/50, loss = 0.891891\n",
      "epoch : 8/50, loss = 0.891501\n",
      "epoch : 9/50, loss = 0.891104\n",
      "epoch : 10/50, loss = 0.890768\n",
      "epoch : 11/50, loss = 0.890467\n",
      "epoch : 12/50, loss = 0.890121\n",
      "epoch : 13/50, loss = 0.889879\n",
      "epoch : 14/50, loss = 0.889713\n",
      "epoch : 15/50, loss = 0.889616\n",
      "epoch : 16/50, loss = 0.889556\n",
      "epoch : 17/50, loss = 0.889425\n",
      "epoch : 18/50, loss = 0.889340\n",
      "epoch : 19/50, loss = 0.889267\n",
      "epoch : 20/50, loss = 0.889159\n",
      "epoch : 21/50, loss = 0.889136\n",
      "epoch : 22/50, loss = 0.889038\n",
      "epoch : 23/50, loss = 0.889007\n",
      "epoch : 24/50, loss = 0.889023\n",
      "epoch : 25/50, loss = 0.888911\n",
      "epoch : 26/50, loss = 0.888848\n",
      "epoch : 27/50, loss = 0.888806\n",
      "epoch : 28/50, loss = 0.888746\n",
      "epoch : 29/50, loss = 0.888737\n",
      "epoch : 30/50, loss = 0.888721\n",
      "epoch : 31/50, loss = 0.888710\n",
      "epoch : 32/50, loss = 0.888730\n",
      "epoch : 33/50, loss = 0.888693\n",
      "epoch : 34/50, loss = 0.888714\n",
      "epoch : 35/50, loss = 0.888700\n",
      "epoch : 36/50, loss = 0.888681\n",
      "epoch : 37/50, loss = 0.888685\n",
      "epoch : 38/50, loss = 0.888671\n",
      "epoch : 39/50, loss = 0.888647\n",
      "epoch : 40/50, loss = 0.888633\n",
      "epoch : 41/50, loss = 0.888637\n",
      "epoch : 42/50, loss = 0.888657\n",
      "epoch : 43/50, loss = 0.888593\n",
      "epoch : 44/50, loss = 0.888630\n",
      "epoch : 45/50, loss = 0.888615\n",
      "epoch : 46/50, loss = 0.888620\n",
      "epoch : 47/50, loss = 0.888576\n",
      "epoch : 48/50, loss = 0.888617\n",
      "epoch : 49/50, loss = 0.888614\n",
      "epoch : 50/50, loss = 0.888615\n"
     ]
    }
   ],
   "source": [
    "for epoch in range(epochs):\n",
    "    loss = 0\n",
    "    for batch_features, _ in train_loader:\n",
    "        # reshape mini-batch data to [N, 784] matrix\n",
    "        # load it to the active device\n",
    "        batch_features = batch_features.view(-1, 784).to(device)\n",
    "        \n",
    "        # reset the gradients back to zero\n",
    "        # PyTorch accumulates gradients on subsequent backward passes\n",
    "        optimizer.zero_grad()\n",
    "        \n",
    "        # compute reconstructions\n",
    "        outputs = model(batch_features)\n",
    "        \n",
    "        # compute training reconstruction loss\n",
    "        train_loss = criterion(outputs, batch_features)\n",
    "        \n",
    "        # compute accumulated gradients\n",
    "        train_loss.backward()\n",
    "        \n",
    "        # perform parameter update based on current gradients\n",
    "        optimizer.step()\n",
    "        \n",
    "        # add the mini-batch training loss to epoch loss\n",
    "        loss += train_loss.item()\n",
    "    \n",
    "    # compute the epoch training loss\n",
    "    loss = loss / len(train_loader)\n",
    "    \n",
    "    # display the epoch training loss\n",
    "    print(\"epoch : {}/{}, loss = {:.6f}\".format(epoch + 1, epochs, loss))"
   ]
  },
  {
   "cell_type": "code",
   "execution_count": 18,
   "metadata": {},
   "outputs": [
    {
     "name": "stdout",
     "output_type": "stream",
     "text": [
      "torch.Size([512, 1, 28, 28])\n"
     ]
    }
   ],
   "source": [
    "dataiter = iter(train_loader)\n",
    "images, labels = dataiter.next()\n",
    "print(images.shape)"
   ]
  },
  {
   "cell_type": "code",
   "execution_count": 30,
   "metadata": {},
   "outputs": [
    {
     "data": {
      "text/plain": [
       "<Figure size 432x288 with 0 Axes>"
      ]
     },
     "metadata": {},
     "output_type": "display_data"
    },
    {
     "data": {
      "image/png": "[encoded data removed]",
      "text/plain": [
       "<Figure size 720x720 with 9 Axes>"
      ]
     },
     "metadata": {
      "needs_background": "light"
     },
     "output_type": "display_data"
    }
   ],
   "source": [
    "plt.figure()\n",
    "plt_row = 3\n",
    "plt_col = 3\n",
    "fig, axes = plt.subplots(plt_row, plt_col, figsize=(10,10))\n",
    "plt.subplots_adjust(hspace=0.5)\n",
    "counter = 0\n",
    "for i in range(plt_row):\n",
    "    for j in range(plt_col):\n",
    "        image = np.transpose(images[counter].numpy(), (1, 2, 0))\n",
    "        axes[i][j].imshow(image, cmap='gray')\n",
    "        axes[i][j].set_xlabel(\"label {label}\".format(label = labels[counter]),fontsize=25 )\n",
    "        counter = counter + 1\n",
    "plt.show()"
   ]
  },
  {
   "cell_type": "code",
   "execution_count": null,
   "metadata": {},
   "outputs": [],
   "source": []
  }
 ],
 "metadata": {
  "kernelspec": {
   "display_name": "Python 3",
   "language": "python",
   "name": "python3"
  },
  "language_info": {
   "codemirror_mode": {
    "name": "ipython",
    "version": 3
   },
   "file_extension": ".py",
   "mimetype": "text/x-python",
   "name": "python",
   "nbconvert_exporter": "python",
   "pygments_lexer": "ipython3",
   "version": "3.8.5"
  }
 },
 "nbformat": 4,
 "nbformat_minor": 4
}
